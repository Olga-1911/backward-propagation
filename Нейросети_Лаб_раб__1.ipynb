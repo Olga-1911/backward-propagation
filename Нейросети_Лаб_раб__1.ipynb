{
  "cells": [
    {
      "cell_type": "markdown",
      "metadata": {
        "id": "view-in-github",
        "colab_type": "text"
      },
      "source": [
        "<a href=\"https://colab.research.google.com/github/Olga-1911/backward-propagation/blob/main/%D0%9D%D0%B5%D0%B9%D1%80%D0%BE%D1%81%D0%B5%D1%82%D0%B8_%D0%9B%D0%B0%D0%B1_%D1%80%D0%B0%D0%B1__1.ipynb\" target=\"_parent\"><img src=\"https://colab.research.google.com/assets/colab-badge.svg\" alt=\"Open In Colab\"/></a>"
      ]
    },
    {
      "cell_type": "markdown",
      "metadata": {
        "id": "MTP7C99LR2HC"
      },
      "source": [
        "Инициализация весов и смещений"
      ]
    },
    {
      "cell_type": "code",
      "execution_count": 1,
      "metadata": {
        "id": "axKGfClWRBF_"
      },
      "outputs": [],
      "source": [
        "def initialize_parameters(input_size, hidden_size, output_size):\n",
        "    np.random.seed(42)\n",
        "    W1 = np.random.randn(hidden_size, input_size) * 0.01\n",
        "    b1 = np.zeros((hidden_size, 1))\n",
        "    W2 = np.random.randn(output_size, hidden_size) * 0.01\n",
        "    b2 = np.zeros((output_size, 1))\n",
        "    return W1, b1, W2, b2"
      ]
    },
    {
      "cell_type": "markdown",
      "metadata": {
        "id": "vH-XhAQoR418"
      },
      "source": [
        "Прямое распространение"
      ]
    },
    {
      "cell_type": "code",
      "execution_count": 2,
      "metadata": {
        "id": "C6JNcGqFR7ae"
      },
      "outputs": [],
      "source": [
        "def relu(z):\n",
        "    return np.maximum(0, z)\n",
        "def softmax(z):\n",
        "    exp_z = np.exp(z - np.max(z, axis=0, keepdims=True))\n",
        "    return exp_z / np.sum(exp_z, axis=0, keepdims=True)\n",
        "def forward_propagation(X, W1, b1, W2, b2):\n",
        "    Z1 = np.dot(W1, X) + b1\n",
        "    A1 = relu(Z1)\n",
        "\n",
        "    Z2 = np.dot(W2, A1) + b2\n",
        "    A2 = softmax(Z2)\n",
        "\n",
        "    return Z1, A1, Z2, A2"
      ]
    },
    {
      "cell_type": "markdown",
      "metadata": {
        "id": "FpRBvFylSFPy"
      },
      "source": [
        "Обратное распространение ошибки"
      ]
    },
    {
      "cell_type": "code",
      "execution_count": 3,
      "metadata": {
        "id": "5QF1eE3YSHkg"
      },
      "outputs": [],
      "source": [
        "def relu_derivative(z):\n",
        "    return (z > 0).astype(float)\n",
        "def backward_propagation(X, Y, Z1, A1, A2, W2):\n",
        "    m = X.shape[1]\n",
        "    dZ2 = A2 - Y\n",
        "    dW2 = np.dot(dZ2, A1.T) / m\n",
        "    db2 = np.sum(dZ2, axis=1, keepdims=True) / m\n",
        "\n",
        "    dA1 = np.dot(W2.T, dZ2)\n",
        "    dZ1 = dA1 * relu_derivative(Z1)\n",
        "    dW1 = np.dot(dZ1, X.T) / m\n",
        "    db1 = np.sum(dZ1, axis=1, keepdims=True) / m\n",
        "\n",
        "    return dW1, db1, dW2, db2"
      ]
    },
    {
      "cell_type": "markdown",
      "metadata": {
        "id": "JAzbEVWpSPXC"
      },
      "source": [
        "Обновим параметры нейронной сети"
      ]
    },
    {
      "cell_type": "code",
      "execution_count": 4,
      "metadata": {
        "id": "y8ta8U_iSTfF"
      },
      "outputs": [],
      "source": [
        "def update_parameters(W1, b1, W2, b2, dW1, db1, dW2, db2, learning_rate):\n",
        "    W1 -= learning_rate * dW1\n",
        "    b1 -= learning_rate * db1\n",
        "    W2 -= learning_rate * dW2\n",
        "    b2 -= learning_rate * db2\n",
        "    return W1, b1, W2, b2"
      ]
    },
    {
      "cell_type": "markdown",
      "metadata": {
        "id": "h7-zjSFeS2Vg"
      },
      "source": [
        "**Осуществляем разработку приложения для классификации рукописных чисел**"
      ]
    },
    {
      "cell_type": "markdown",
      "metadata": {
        "id": "BjeYyDj4TiOo"
      },
      "source": [
        "Загружаем данные и делим на тренировочные и тестовые."
      ]
    },
    {
      "cell_type": "code",
      "execution_count": 5,
      "metadata": {
        "id": "erGAb7UEUH6s"
      },
      "outputs": [],
      "source": [
        "from tensorflow.keras.datasets import mnist"
      ]
    },
    {
      "cell_type": "code",
      "execution_count": 6,
      "metadata": {
        "id": "fVqEf3DRUUNV",
        "colab": {
          "base_uri": "https://localhost:8080/"
        },
        "outputId": "7e9ab80f-bf5f-44ae-9c95-03382b9a348a"
      },
      "outputs": [
        {
          "output_type": "stream",
          "name": "stdout",
          "text": [
            "Downloading data from https://storage.googleapis.com/tensorflow/tf-keras-datasets/mnist.npz\n",
            "\u001b[1m11490434/11490434\u001b[0m \u001b[32m━━━━━━━━━━━━━━━━━━━━\u001b[0m\u001b[37m\u001b[0m \u001b[1m0s\u001b[0m 0us/step\n"
          ]
        }
      ],
      "source": [
        "import os\n",
        "import numpy as np\n",
        "from PIL import Image\n",
        "\n",
        "from tensorflow.keras.datasets import mnist\n",
        "\n",
        "def save_mnist_images(output_dir):\n",
        "    (x_train, y_train), (x_test, y_test) = mnist.load_data()\n",
        "\n",
        "    os.makedirs(output_dir, exist_ok=True)\n",
        "\n",
        "    train_dir = os.path.join(output_dir, 'train')\n",
        "    os.makedirs(train_dir, exist_ok=True)\n",
        "\n",
        "    for digit in range(10):\n",
        "        digit_dir = os.path.join(train_dir, str(digit))\n",
        "        os.makedirs(digit_dir, exist_ok=True)\n",
        "\n",
        "        indices = np.where(y_train == digit)[0]\n",
        "        for j, idx in enumerate(indices):\n",
        "            img = Image.fromarray(x_train[idx])\n",
        "            img.save(os.path.join(digit_dir, f\"{j}.png\"))\n",
        "\n",
        "    test_dir = os.path.join(output_dir, 'test')\n",
        "    os.makedirs(test_dir, exist_ok=True)\n",
        "\n",
        "    for digit in range(10):\n",
        "        digit_dir = os.path.join(test_dir, str(digit))\n",
        "        os.makedirs(digit_dir, exist_ok=True)\n",
        "\n",
        "        indices = np.where(y_test == digit)[0]\n",
        "        for j, idx in enumerate(indices):\n",
        "            img = Image.fromarray(x_test[idx])\n",
        "            img.save(os.path.join(digit_dir, f\"{j}.png\"))\n",
        "\n",
        "if __name__ == \"__main__\":\n",
        "    save_mnist_images(\"mnist_images\")"
      ]
    },
    {
      "cell_type": "markdown",
      "metadata": {
        "id": "5u2CJnS4U1nd"
      },
      "source": [
        "Предобработка данных"
      ]
    },
    {
      "cell_type": "code",
      "execution_count": 7,
      "metadata": {
        "id": "DrcjF47EU0Zw"
      },
      "outputs": [],
      "source": [
        "def one_hot_encode(labels, num_classes):\n",
        "    one_hot = np.zeros((num_classes, labels.shape[0]))\n",
        "    one_hot[labels, np.arange(labels.shape[0])] = 1\n",
        "    return one_hot"
      ]
    },
    {
      "cell_type": "code",
      "execution_count": 8,
      "metadata": {
        "id": "k6MIJ03EU5fK"
      },
      "outputs": [],
      "source": [
        "def load_mnist_from_directory(directory):\n",
        "    images = []\n",
        "    labels = []\n",
        "    for label in range(10):\n",
        "        label_dir = os.path.join(directory, str(label))\n",
        "        for file_name in os.listdir(label_dir):\n",
        "            file_path = os.path.join(label_dir, file_name)\n",
        "            img = cv2.imread(file_path, cv2.IMREAD_GRAYSCALE)\n",
        "            images.append(img.flatten() / 255.0)\n",
        "            labels.append(label)\n",
        "    return np.array(images), np.array(labels)"
      ]
    },
    {
      "cell_type": "code",
      "execution_count": 9,
      "metadata": {
        "id": "u0QAVikkWJcl"
      },
      "outputs": [],
      "source": [
        "import cv2"
      ]
    },
    {
      "cell_type": "code",
      "execution_count": 10,
      "metadata": {
        "colab": {
          "base_uri": "https://localhost:8080/"
        },
        "id": "SFSePM42U-iG",
        "outputId": "7b6946b2-dc25-4892-d42d-e7ac04b2a328"
      },
      "outputs": [
        {
          "output_type": "stream",
          "name": "stdout",
          "text": [
            "x_train: (60000, 784), y_train: (60000,)\n"
          ]
        }
      ],
      "source": [
        "x_train, y_train = load_mnist_from_directory(\"/content/mnist_images/train\")\n",
        "x_test, y_test = load_mnist_from_directory(\"/content/mnist_images/test\")\n",
        "\n",
        "print(f\"x_train: {x_train.shape}, y_train: {y_train.shape}\")"
      ]
    },
    {
      "cell_type": "code",
      "execution_count": 11,
      "metadata": {
        "id": "Y4VFlwDaWvnY"
      },
      "outputs": [],
      "source": [
        "import random\n",
        "\n",
        "import matplotlib.pyplot as plt\n",
        "import matplotlib.image as mpimg"
      ]
    },
    {
      "cell_type": "code",
      "execution_count": 12,
      "metadata": {
        "colab": {
          "base_uri": "https://localhost:8080/",
          "height": 360
        },
        "id": "WgeUcaYcWWxL",
        "outputId": "1818877c-792c-4ac0-a03c-2c4b012dce31"
      },
      "outputs": [
        {
          "output_type": "display_data",
          "data": {
            "text/plain": [
              "<Figure size 1000x400 with 10 Axes>"
            ],
            "image/png": "[encoded data removed]"
          },
          "metadata": {}
        }
      ],
      "source": [
        "subfolders = [f.path for f in os.scandir('/content/mnist_images/test') if f.is_dir()]\n",
        "selected_images = []\n",
        "\n",
        "for folder in subfolders:\n",
        "    images = [f for f in os.listdir(folder) if f.endswith(('jpg', 'jpeg', 'png', 'gif'))]\n",
        "    if images:  # Если в папке есть изображения\n",
        "        selected_image = random.choice(images)\n",
        "        selected_images.append(os.path.join(folder, selected_image))\n",
        "\n",
        "plt.figure(figsize=(10, 4))\n",
        "for i, image_path in enumerate(selected_images[:10]):\n",
        "    img = mpimg.imread(image_path)\n",
        "    plt.subplot(2, 5, i + 1)\n",
        "    plt.imshow(img)\n",
        "    plt.axis('off')\n",
        "    plt.title(os.path.basename(image_path))\n",
        "plt.show()"
      ]
    },
    {
      "cell_type": "code",
      "execution_count": 13,
      "metadata": {
        "id": "6aoNXU8fXARi"
      },
      "outputs": [],
      "source": [
        "input_size = 784\n",
        "hidden_size = 128\n",
        "output_size = 10\n",
        "\n",
        "x_train = x_train.T\n",
        "x_test = x_test.T\n",
        "\n",
        "y_train_one_hot = one_hot_encode(y_train, output_size)\n",
        "y_test_one_hot = one_hot_encode(y_test, output_size)"
      ]
    },
    {
      "cell_type": "markdown",
      "metadata": {
        "id": "8_whWLQQXFac"
      },
      "source": [
        "Произведем обучение модели"
      ]
    },
    {
      "cell_type": "code",
      "execution_count": 14,
      "metadata": {
        "id": "yK-42gz7XCuL"
      },
      "outputs": [],
      "source": [
        "def train(X, Y, input_size, hidden_size, output_size, learning_rate, num_iterations):\n",
        "    list_loss = []\n",
        "    W1, b1, W2, b2 = initialize_parameters(input_size, hidden_size, output_size)\n",
        "    for i in range(num_iterations):\n",
        "        Z1, A1, Z2, A2 = forward_propagation(X, W1, b1, W2, b2)\n",
        "        loss = -np.mean(np.sum(Y * np.log(A2 + 1e-8), axis=0))\n",
        "        list_loss.append(loss)\n",
        "        dW1, db1, dW2, db2 = backward_propagation(X, Y, Z1, A1, A2, W2)\n",
        "        W1, b1, W2, b2 = update_parameters(W1, b1, W2, b2, dW1, db1, dW2, db2, learning_rate)\n",
        "        if i % 100 == 0:\n",
        "            print(f\"Итерация {i}: ошибка = {loss}\")\n",
        "    return W1, b1, W2, b2, list_loss"
      ]
    },
    {
      "cell_type": "code",
      "execution_count": 15,
      "metadata": {
        "colab": {
          "base_uri": "https://localhost:8080/"
        },
        "id": "_jZvce9hXMmp",
        "outputId": "6056945f-bf34-4618-b395-82ab92706004"
      },
      "outputs": [
        {
          "output_type": "stream",
          "name": "stdout",
          "text": [
            "Итерация 0: ошибка = 2.302835447984188\n",
            "Итерация 100: ошибка = 2.2904548476417688\n",
            "Итерация 200: ошибка = 2.268236738941945\n",
            "Итерация 300: ошибка = 2.221310406457631\n",
            "Итерация 400: ошибка = 2.1265796803807855\n",
            "Итерация 500: ошибка = 1.959677600798759\n",
            "Итерация 600: ошибка = 1.7191548862425208\n",
            "Итерация 700: ошибка = 1.4532419710543216\n",
            "Итерация 800: ошибка = 1.2257548108086216\n",
            "Итерация 900: ошибка = 1.0547211119947923\n"
          ]
        }
      ],
      "source": [
        "iterations = 1000\n",
        "learning_rate = 0.01\n",
        "W1, b1, W2, b2,list_a  = train(x_train, y_train_one_hot, input_size, hidden_size, output_size, learning_rate, iterations)"
      ]
    },
    {
      "cell_type": "markdown",
      "metadata": {
        "id": "nL2MWfm4Xa94"
      },
      "source": [
        "Произведем тестирование модели"
      ]
    },
    {
      "cell_type": "code",
      "execution_count": 16,
      "metadata": {
        "id": "sGo7JZfgXeGn"
      },
      "outputs": [],
      "source": [
        "def predict(X, W1, b1, W2, b2):\n",
        "    _, _, _, A2 = forward_propagation(X, W1, b1, W2, b2)\n",
        "    return np.argmax(A2, axis=0)"
      ]
    },
    {
      "cell_type": "code",
      "execution_count": 17,
      "metadata": {
        "colab": {
          "base_uri": "https://localhost:8080/"
        },
        "id": "69mvijriXjTF",
        "outputId": "0a1fd9fd-9c7b-4071-a3ac-863149b75113"
      },
      "outputs": [
        {
          "output_type": "stream",
          "name": "stdout",
          "text": [
            "Точность на тестовых данных: 79.69%\n"
          ]
        }
      ],
      "source": [
        "y_pred = predict(x_test, W1, b1, W2, b2)\n",
        "accuracy = np.mean(y_pred == y_test)\n",
        "print(f\"Точность на тестовых данных: {accuracy * 100:.2f}%\")"
      ]
    },
    {
      "cell_type": "markdown",
      "metadata": {
        "id": "_q75cQ2ZcxUN"
      },
      "source": [
        "Низкая точность связана с низким количеством итераций. Увеличим их до 1000."
      ]
    },
    {
      "cell_type": "markdown",
      "metadata": {
        "id": "bqx3mpAPXr0u"
      },
      "source": [
        "Проведем тестирование с другими параметрами"
      ]
    },
    {
      "cell_type": "code",
      "execution_count": 18,
      "metadata": {
        "colab": {
          "base_uri": "https://localhost:8080/"
        },
        "id": "VhV7GSb_XnNK",
        "outputId": "e3a85ad0-72c3-4fa4-8ee9-ddec763daf9d"
      },
      "outputs": [
        {
          "metadata": {
            "tags": null
          },
          "name": "stdout",
          "output_type": "stream",
          "text": [
            "Итерация 0: ошибка = 2.302835447984188\n",
            "Итерация 100: ошибка = 2.3011346194736815\n",
            "Итерация 200: ошибка = 2.301155283057427\n",
            "Итерация 300: ошибка = 2.301151798697274\n",
            "Итерация 400: ошибка = 2.3010076918048283\n",
            "Итерация 500: ошибка = 2.3011533510057007\n",
            "Итерация 600: ошибка = 2.3011522955081225\n",
            "Итерация 700: ошибка = 2.301151606489199\n",
            "Итерация 800: ошибка = 2.3011511186070255\n",
            "Итерация 900: ошибка = 2.301150253743666\n"
          ]
        }
      ],
      "source": [
        "iterations = 1000\n",
        "learning_rate = 2.5\n",
        "W1, b1, W2, b2,list_b  = train(x_train, y_train_one_hot, input_size, hidden_size, output_size, learning_rate, iterations)"
      ]
    },
    {
      "cell_type": "code",
      "execution_count": 19,
      "metadata": {
        "colab": {
          "base_uri": "https://localhost:8080/"
        },
        "id": "RJ21WJaLYCgL",
        "outputId": "b825b8ac-22dd-44af-8865-feff522d1d2d"
      },
      "outputs": [
        {
          "metadata": {
            "tags": null
          },
          "name": "stdout",
          "output_type": "stream",
          "text": [
            "Точность на тестовых данных: 11.35%\n"
          ]
        }
      ],
      "source": [
        "y_pred = predict(x_test, W1, b1, W2, b2)\n",
        "accuracy = np.mean(y_pred == y_test)\n",
        "print(f\"Точность на тестовых данных: {accuracy * 100:.2f}%\")"
      ]
    },
    {
      "cell_type": "code",
      "execution_count": null,
      "metadata": {
        "colab": {
          "base_uri": "https://localhost:8080/"
        },
        "id": "0TfkEFpVX_hq",
        "outputId": "f4da4fc8-95cb-4019-ddb9-4bbf87633335"
      },
      "outputs": [
        {
          "output_type": "stream",
          "name": "stdout",
          "text": [
            "Итерация 0: ошибка = 2.302835447984188\n",
            "Итерация 100: ошибка = 0.2740264603397501\n",
            "Итерация 200: ошибка = 0.1950894226705613\n",
            "Итерация 300: ошибка = 0.1550563937880384\n",
            "Итерация 400: ошибка = 0.12916765574323819\n",
            "Итерация 500: ошибка = 0.11070042624281373\n",
            "Итерация 600: ошибка = 0.09666450731371254\n"
          ]
        }
      ],
      "source": [
        "iterations = 1000\n",
        "learning_rate = 0.8\n",
        "W1, b1, W2, b2,list_c  = train(x_train, y_train_one_hot, input_size, hidden_size, output_size, learning_rate, iterations)"
      ]
    },
    {
      "cell_type": "code",
      "execution_count": null,
      "metadata": {
        "id": "fIyhgQcXYDJ2"
      },
      "outputs": [],
      "source": [
        "y_pred = predict(x_test, W1, b1, W2, b2)\n",
        "accuracy = np.mean(y_pred == y_test)\n",
        "print(f\"Точность на тестовых данных: {accuracy * 100:.2f}%\")"
      ]
    },
    {
      "cell_type": "code",
      "source": [
        "x_indices = list(range(len(list_a)))\n",
        "plt.figure(figsize=(20, 6))\n",
        "plt.plot(x_indices, list_a, label='learning_rate = 0.01')\n",
        "plt.plot(x_indices, list_b, label='learning_rate = 2.5')\n",
        "plt.plot(x_indices, list_c, label='learning_rate = 0.8')\n",
        "plt.title('loss')\n",
        "plt.xlabel('iterations')\n",
        "plt.ylabel('Значения')\n",
        "plt.legend()\n",
        "plt.grid()\n",
        "plt.show()"
      ],
      "metadata": {
        "colab": {
          "base_uri": "https://localhost:8080/",
          "height": 447
        },
        "id": "Kgr1gpFazzKj",
        "outputId": "04bdf5f2-f212-4113-c277-946f69dd71eb"
      },
      "execution_count": 23,
      "outputs": [
        {
          "output_type": "display_data",
          "data": {
            "text/plain": [
              "<Figure size 2000x600 with 1 Axes>"
            ],
            "image/png": "[encoded data removed]"
          },
          "metadata": {}
        }
      ]
    },
    {
      "cell_type": "markdown",
      "metadata": {
        "id": "fyHtg72xanCw"
      },
      "source": [
        "Из графика мы можем увидеть, что наилучший вариант - модели со средними параметрами, здесь оптимальна скорость обучения и точность."
      ]
    }
  ],
  "metadata": {
    "colab": {
      "provenance": [],
      "authorship_tag": "ABX9TyPx6ytfqf73YOUsn3cmPR5+",
      "include_colab_link": true
    },
    "kernelspec": {
      "display_name": "Python 3",
      "name": "python3"
    },
    "language_info": {
      "name": "python"
    }
  },
  "nbformat": 4,
  "nbformat_minor": 0
}